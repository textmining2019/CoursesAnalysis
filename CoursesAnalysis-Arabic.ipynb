{
 "cells": [
  {
   "cell_type": "code",
   "execution_count": 1,
   "metadata": {},
   "outputs": [],
   "source": [
    "\n",
    "import nltk\n",
    "import numpy as np\n",
    "from textblob import TextBlob\n",
    "import pandas as pd \n",
    "import glob\n",
    "from sklearn.model_selection import train_test_split\n",
    "from sklearn.model_selection import KFold # import KFold\n",
    "from sklearn.model_selection import KFold, StratifiedKFold\n",
    "#Load libraries needed for classification \n",
    "from sklearn import naive_bayes\n",
    "from sklearn.feature_extraction.text import CountVectorizer\n",
    "from sklearn.feature_extraction.text import TfidfVectorizer\n",
    "from sklearn import metrics\n",
    "from sklearn.naive_bayes import BernoulliNB, MultinomialNB,GaussianNB\n",
    "from sklearn.feature_extraction.text import CountVectorizer\n",
    "from sklearn.linear_model import LogisticRegression\n",
    "#from sklearn.naive_bayes import ComplementNB\n",
    "#from bayes.classifiers import ComplementNB\n",
    "#from naiveBayesClassifier.classifier import Classifier\n",
    "from sklearn import svm, datasets\n",
    "from nltk.stem import WordNetLemmatizer\n",
    "from nltk.corpus import stopwords\n",
    "from nltk.stem.wordnet import WordNetLemmatizer\n",
    "from nltk import word_tokenize, pos_tag\n",
    "from nltk.util import ngrams\n",
    "from nltk.corpus import wordnet as omw # open multilingual wordnet\n",
    "from nltk.stem.isri import ISRIStemmer"
   ]
  },
  {
   "cell_type": "code",
   "execution_count": 2,
   "metadata": {},
   "outputs": [],
   "source": [
    "# A.read the course names training data & apply preprocessing into a data frame\n",
    "# A.1 upload  Train data file names\n",
    "path =r'D:\\MahmoudOut\\Final Project\\CoursesAnalysis-master'\n",
    "ds1_train=pd.read_excel(path+\"\\TrainData.xlsx\")"
   ]
  },
  {
   "cell_type": "code",
   "execution_count": 3,
   "metadata": {},
   "outputs": [],
   "source": [
    "#get Arabic sentences only\n",
    "import re\n",
    "\n",
    "def ArabicOnly(text):\n",
    "    #print (text)\n",
    "    result = re.sub(r'[^ء-ي]',' ',str(text)) #arabic\n",
    "    if len(result.strip()) >0:\n",
    "        return 'T'\n",
    "    else:\n",
    "        return 'F'\n",
    "ds1_train['ArabicOnly'] =ds1_train['valueName'].apply(lambda x : ArabicOnly(x))\n"
   ]
  },
  {
   "cell_type": "code",
   "execution_count": 4,
   "metadata": {},
   "outputs": [
    {
     "data": {
      "text/plain": [
       "79"
      ]
     },
     "execution_count": 4,
     "metadata": {},
     "output_type": "execute_result"
    }
   ],
   "source": [
    "ds1_train = ds1_train[ds1_train.ArabicOnly =='T']\n",
    "len(ds1_train)"
   ]
  },
  {
   "cell_type": "code",
   "execution_count": 5,
   "metadata": {},
   "outputs": [],
   "source": [
    "# Arabic diacritics\n",
    "arabic_punct = ''' ` ÷ × ؛ < > _ ( ) * & ^ % ] [ ـ ، / : \" ؟ . , ' { } ~ ¦ + | !  ”  …  “ –   ـ  '''\n",
    "arabic_diacritics = '''  َ     ُ       ِ      ّ       ً      ٌ       ٍ      ْ     '''\n",
    "\n",
    "arabic_punct = arabic_punct.split()\n",
    "\n",
    "arabic_diacritics = arabic_diacritics.split()\n",
    "\n",
    "# Arabic punctuations and dicritis \n",
    "punctuations = set( arabic_punct  + arabic_diacritics )\n",
    "\n",
    "# Arabic stopwords. This list are obtained from http://www.ranks.nl/stopwords/arabic \n",
    "asw = open(path+'/ArabicStopwords.txt', encoding=\"utf8\").read()\n",
    "\n",
    "arabicStopWords =  asw.split() #+ aswUinicode.split()\n",
    "\n",
    "asw2 = ''\n",
    "\n",
    "# Arabic  stopwords\n",
    "all_stopwords = set(arabicStopWords)\n"
   ]
  },
  {
   "cell_type": "code",
   "execution_count": 6,
   "metadata": {},
   "outputs": [
    {
     "data": {
      "text/plain": [
       "{'آخر',\n",
       " 'أ',\n",
       " 'أكثر',\n",
       " 'ألا',\n",
       " 'أما',\n",
       " 'أن',\n",
       " 'أنا',\n",
       " 'أنت',\n",
       " 'أنفسكم',\n",
       " 'أنفسنا',\n",
       " 'أنفسهم',\n",
       " 'أنه',\n",
       " 'أنها',\n",
       " 'أو',\n",
       " 'أى',\n",
       " 'أي',\n",
       " 'أيضا',\n",
       " 'إذا',\n",
       " 'إضافي',\n",
       " 'إلا',\n",
       " 'إلى',\n",
       " 'إلي',\n",
       " 'إما',\n",
       " 'إن',\n",
       " 'إنه',\n",
       " 'إنها',\n",
       " 'ا',\n",
       " 'اذا',\n",
       " 'اكثر',\n",
       " 'الآن',\n",
       " 'الا',\n",
       " 'الان',\n",
       " 'التى',\n",
       " 'التي',\n",
       " 'الذى',\n",
       " 'الذي',\n",
       " 'الذين',\n",
       " 'الى',\n",
       " 'الي',\n",
       " 'اما',\n",
       " 'ان',\n",
       " 'انت',\n",
       " 'انه',\n",
       " 'انها',\n",
       " 'او',\n",
       " 'اى',\n",
       " 'اي',\n",
       " 'ايضا',\n",
       " 'ب',\n",
       " 'بأن',\n",
       " 'بان',\n",
       " 'بسبب',\n",
       " 'بشكل',\n",
       " 'بعد',\n",
       " 'بعض',\n",
       " 'بعيدا',\n",
       " 'بن',\n",
       " 'به',\n",
       " 'بها',\n",
       " 'بين',\n",
       " 'بينما',\n",
       " \"تحت'\",\n",
       " 'تكون',\n",
       " 'تلك',\n",
       " 'تم',\n",
       " 'ثانية',\n",
       " 'ثم',\n",
       " 'جدا',\n",
       " 'جميع',\n",
       " 'حاليا',\n",
       " 'حتى',\n",
       " 'حول',\n",
       " 'حيث',\n",
       " 'حين',\n",
       " 'خارج',\n",
       " 'خلال',\n",
       " 'دون',\n",
       " 'ديك',\n",
       " 'ذلك',\n",
       " 'سوف',\n",
       " 'صباحا',\n",
       " 'ضد',\n",
       " 'ضمن',\n",
       " 'على',\n",
       " 'عليه',\n",
       " 'عليها',\n",
       " 'عن',\n",
       " 'عند',\n",
       " 'عندما',\n",
       " 'غير',\n",
       " 'ف',\n",
       " 'فأن',\n",
       " 'فان',\n",
       " 'فعل',\n",
       " 'فقط',\n",
       " 'فما',\n",
       " 'فهو',\n",
       " 'فهى',\n",
       " 'فهي',\n",
       " 'فوق',\n",
       " 'فى',\n",
       " 'في',\n",
       " 'فيه',\n",
       " 'فيها',\n",
       " 'قبل',\n",
       " 'قد',\n",
       " 'قليل',\n",
       " 'كان',\n",
       " 'كانت',\n",
       " 'كل',\n",
       " 'كلا',\n",
       " 'كما',\n",
       " 'كيف',\n",
       " 'ل',\n",
       " 'لا',\n",
       " 'لدى',\n",
       " 'لديه',\n",
       " 'لقاء',\n",
       " 'لك',\n",
       " 'لكن',\n",
       " 'لم',\n",
       " 'لماذا',\n",
       " 'لن',\n",
       " 'لنا',\n",
       " 'له',\n",
       " 'لها',\n",
       " 'لهم',\n",
       " 'لي',\n",
       " 'ليس',\n",
       " 'ما',\n",
       " 'مثل',\n",
       " 'مرة',\n",
       " 'مع',\n",
       " 'معظم',\n",
       " 'من',\n",
       " 'منذ',\n",
       " 'منه',\n",
       " 'منها',\n",
       " 'نحن',\n",
       " 'نحو',\n",
       " 'نفسك',\n",
       " 'نفسه',\n",
       " 'نفسها',\n",
       " 'نفسي',\n",
       " 'هؤلاء',\n",
       " 'هذا',\n",
       " 'هذه',\n",
       " 'هكذا',\n",
       " 'هم',\n",
       " 'هنا',\n",
       " 'هناك',\n",
       " 'هو',\n",
       " 'هى',\n",
       " 'هي',\n",
       " 'و',\n",
       " 'وأن',\n",
       " 'وإن',\n",
       " 'وان',\n",
       " 'وجود',\n",
       " 'وفي',\n",
       " 'وقال',\n",
       " 'وقالت',\n",
       " 'وقد',\n",
       " 'وكان',\n",
       " 'وكانت',\n",
       " 'وكل',\n",
       " 'ولا',\n",
       " 'ولم',\n",
       " 'ولن',\n",
       " 'وما',\n",
       " 'ومن',\n",
       " 'وهو',\n",
       " 'وهى',\n",
       " 'وهي',\n",
       " 'يجري',\n",
       " 'يكون',\n",
       " 'يمكن',\n",
       " 'ينبغي'}"
      ]
     },
     "execution_count": 6,
     "metadata": {},
     "output_type": "execute_result"
    }
   ],
   "source": [
    "all_stopwords"
   ]
  },
  {
   "cell_type": "code",
   "execution_count": 7,
   "metadata": {},
   "outputs": [],
   "source": [
    "# remove punctcutions\n",
    "def remove_punct(word):\n",
    "    for c in word: return ''.join(ch for ch in word if not ch in punctuations) # remove punctuation\n",
    "###################################################################################"
   ]
  },
  {
   "cell_type": "code",
   "execution_count": 8,
   "metadata": {},
   "outputs": [],
   "source": [
    "# remove arabic diacritics\n",
    "def remove_diacritics(text):\n",
    "    arstemmer = ISRIStemmer()\n",
    "    result = arstemmer.norm(text, num=1) #  remove diacritics which representing Arabic short vowels\n",
    "    return result\n",
    "###################################################################################"
   ]
  },
  {
   "cell_type": "code",
   "execution_count": 9,
   "metadata": {},
   "outputs": [],
   "source": [
    "# takes a word list and returns the root for each Arabic words\n",
    "def getRootAr(word_list):\n",
    "    result = []\n",
    "    arstemmer = ISRIStemmer()\n",
    "    for word in word_list: result.append(arstemmer.stem(word))\n",
    "    return result#' '.join(result)"
   ]
  },
  {
   "cell_type": "code",
   "execution_count": 30,
   "metadata": {},
   "outputs": [
    {
     "name": "stdout",
     "output_type": "stream",
     "text": [
      "وقت\n",
      "بنائ\n",
      "ورد\n",
      "احمد\n"
     ]
    }
   ],
   "source": [
    "arstemmer = ISRIStemmer()\n",
    "print(arstemmer.pre32('الوقت'))\n",
    "print(arstemmer.suf32('بنائون'))\n",
    "print(arstemmer.waw('وورد'))\n",
    "print(arstemmer.norm('أحمد', num=2))\n"
   ]
  },
  {
   "cell_type": "code",
   "execution_count": 28,
   "metadata": {},
   "outputs": [],
   "source": [
    "def normalize_arabic(text):\n",
    "    text = re.sub(\"[إأآا]\", \"ا\", text)\n",
    "    text = re.sub(\"ى\", \"ي\", text)\n",
    "    text = re.sub(\"ؤ\", \"ء\", text)\n",
    "    text = re.sub(\"ئ\", \"ء\", text)\n",
    "    text = re.sub(\"ة\", \"ه\", text)\n",
    "    text = re.sub(\"گ\", \"ك\", text)\n",
    "    return text"
   ]
  },
  {
   "cell_type": "code",
   "execution_count": 33,
   "metadata": {},
   "outputs": [
    {
     "name": "stdout",
     "output_type": "stream",
     "text": [
      "ء\n"
     ]
    }
   ],
   "source": [
    "print(normalize_arabic('ؤ'))"
   ]
  },
  {
   "cell_type": "code",
   "execution_count": 32,
   "metadata": {},
   "outputs": [],
   "source": [
    "# Arabic light stemming for Arabic text\n",
    "# takes a word list and perform light stemming for each Arabic words\n",
    "def lightStemAr(word_list):\n",
    "    result = []\n",
    "    arstemmer = ISRIStemmer()\n",
    "    for word in word_list:\n",
    "        word = arstemmer.norm(word, num=1)  #  remove diacritics which representing Arabic short vowels  \n",
    "        if not word in arstemmer.stop_words:   # exclude stop words from being processed\n",
    "            word = arstemmer.pre32(word)        # remove length three and length two prefixes in this order\n",
    "            word = arstemmer.suf32(word)        # remove length three and length two suffixes in this order\n",
    "            word = arstemmer.waw(word)          # remove connective ‘و’ if it precedes a word beginning with ‘و’\n",
    "            word = arstemmer.norm(word, num=2)       # normalize initial hamza to bare alif\n",
    "            word = normalize_arabic(word)\n",
    "        result.append(word)\n",
    "    return result#' '.join(result)"
   ]
  },
  {
   "cell_type": "code",
   "execution_count": 11,
   "metadata": {},
   "outputs": [],
   "source": [
    "#remove longation\n",
    "def removeLongation(word_list):\n",
    "    result = []\n",
    "    for word in word_list:\n",
    "        #remove longation\n",
    "        p_longation = re.compile(r'(.)\\1+')\n",
    "        subst = r\"\\1\"\n",
    "        word = re.sub(p_longation, subst, word) \n",
    "        result.append(word)\n",
    "    return result"
   ]
  },
  {
   "cell_type": "code",
   "execution_count": null,
   "metadata": {},
   "outputs": [],
   "source": []
  },
  {
   "cell_type": "code",
   "execution_count": 12,
   "metadata": {},
   "outputs": [],
   "source": [
    "# takes a string of text and returns the word list (tonkized words)\n",
    "# processing includes: removing diacritics and punctcutions, removing stopwords, and tokenizing\n",
    "# Stemmning\n",
    "# Get Root\n",
    "def process_text(text, removePunct=True, removeSW=True, removeNum=True, Stem=True, Root=True):\n",
    "    text = remove_diacritics(text)# remove arabic diacritics\n",
    "    word_list = nltk.tokenize.wordpunct_tokenize(text.lower())\n",
    "    word_list = removeLongation(word_list) #remove longation\n",
    "    if removePunct:\n",
    "        word_list = [ w for w in word_list if not w in punctuations ]\n",
    "        word_list = [ remove_punct(w) for w in word_list ]\n",
    "    if removeSW: word_list = [ w for w in word_list if not w in all_stopwords ]\n",
    "    if removeNum: word_list = [ w for w in word_list if not w.isdigit() ]\n",
    "    if Stem: word_list = lightStemAr(word_list) #strimming\n",
    "    if Root: word_list = getRootAr(word_list) #get Root\n",
    "        \n",
    "       \n",
    "    return ' '.join(word_list)\n",
    "###################################################################################"
   ]
  },
  {
   "cell_type": "code",
   "execution_count": null,
   "metadata": {},
   "outputs": [],
   "source": [
    "ds1_train['preprocessingWithStem'] =ds1_train['valueName'].apply(lambda x : process_text(x,True,True,False,True,False))"
   ]
  },
  {
   "cell_type": "code",
   "execution_count": null,
   "metadata": {},
   "outputs": [],
   "source": [
    "ds1_train['preprocessingWithRoot'] =ds1_train['valueName'].apply(lambda x : process_text(x,True,True,False,True,True))"
   ]
  },
  {
   "cell_type": "code",
   "execution_count": null,
   "metadata": {},
   "outputs": [],
   "source": [
    "ds1_train"
   ]
  },
  {
   "cell_type": "code",
   "execution_count": null,
   "metadata": {},
   "outputs": [],
   "source": [
    "#word Embeddings\n",
    "# -*- coding: utf8 -*-\n",
    "import gensim\n",
    "# load the model\n",
    "model = gensim.models.Word2Vec.load(path+'\\Twt-CBOW\\\\Twt-CBOW')\n"
   ]
  },
  {
   "cell_type": "code",
   "execution_count": null,
   "metadata": {},
   "outputs": [],
   "source": [
    "#pip install hunspell\n",
    "#pip install aspell-python-py3"
   ]
  },
  {
   "cell_type": "code",
   "execution_count": 38,
   "metadata": {},
   "outputs": [
    {
     "ename": "ValueError",
     "evalue": "The provided dictionary language (ar) does not exist!",
     "output_type": "error",
     "traceback": [
      "\u001b[1;31m---------------------------------------------------------------------------\u001b[0m",
      "\u001b[1;31mValueError\u001b[0m                                Traceback (most recent call last)",
      "\u001b[1;32m<ipython-input-38-783e5bf878ca>\u001b[0m in \u001b[0;36m<module>\u001b[1;34m()\u001b[0m\n\u001b[0;32m      2\u001b[0m \u001b[1;32mfrom\u001b[0m \u001b[0mspellchecker\u001b[0m \u001b[1;32mimport\u001b[0m \u001b[0mSpellChecker\u001b[0m\u001b[1;33m\u001b[0m\u001b[0m\n\u001b[0;32m      3\u001b[0m \u001b[1;33m\u001b[0m\u001b[0m\n\u001b[1;32m----> 4\u001b[1;33m \u001b[0mspell\u001b[0m \u001b[1;33m=\u001b[0m \u001b[0mSpellChecker\u001b[0m\u001b[1;33m(\u001b[0m\u001b[0mlanguage\u001b[0m\u001b[1;33m=\u001b[0m\u001b[1;34m'ar'\u001b[0m\u001b[1;33m)\u001b[0m  \u001b[1;31m# Arabic dictionary\u001b[0m\u001b[1;33m\u001b[0m\u001b[0m\n\u001b[0m\u001b[0;32m      5\u001b[0m \u001b[0mprint\u001b[0m\u001b[1;33m(\u001b[0m\u001b[0mspell\u001b[0m\u001b[1;33m[\u001b[0m\u001b[1;34m'السلام'\u001b[0m\u001b[1;33m]\u001b[0m\u001b[1;33m)\u001b[0m\u001b[1;33m\u001b[0m\u001b[0m\n",
      "\u001b[1;32m~\\AppData\\Local\\Continuum\\anaconda3\\lib\\site-packages\\spellchecker\\spellchecker.py\u001b[0m in \u001b[0;36m__init__\u001b[1;34m(self, language, local_dictionary, distance)\u001b[0m\n\u001b[0;32m     40\u001b[0m                     \u001b[1;34m\"The provided dictionary language ({}) does not \"\u001b[0m \u001b[1;34m\"exist!\"\u001b[0m\u001b[1;33m\u001b[0m\u001b[0m\n\u001b[0;32m     41\u001b[0m                 ).format(language.lower())\n\u001b[1;32m---> 42\u001b[1;33m                 \u001b[1;32mraise\u001b[0m \u001b[0mValueError\u001b[0m\u001b[1;33m(\u001b[0m\u001b[0mmsg\u001b[0m\u001b[1;33m)\u001b[0m\u001b[1;33m\u001b[0m\u001b[0m\n\u001b[0m\u001b[0;32m     43\u001b[0m             \u001b[0mself\u001b[0m\u001b[1;33m.\u001b[0m\u001b[0m_word_frequency\u001b[0m\u001b[1;33m.\u001b[0m\u001b[0mload_dictionary\u001b[0m\u001b[1;33m(\u001b[0m\u001b[0mfull_filename\u001b[0m\u001b[1;33m)\u001b[0m\u001b[1;33m\u001b[0m\u001b[0m\n\u001b[0;32m     44\u001b[0m \u001b[1;33m\u001b[0m\u001b[0m\n",
      "\u001b[1;31mValueError\u001b[0m: The provided dictionary language (ar) does not exist!"
     ]
    }
   ],
   "source": [
    "#spell Checker\n",
    "from spellchecker import SpellChecker\n",
    "\n",
    "spell = SpellChecker(language='ar')  # Arabic dictionary\n",
    "print(spell['السلام'])"
   ]
  },
  {
   "cell_type": "code",
   "execution_count": null,
   "metadata": {},
   "outputs": [],
   "source": []
  }
 ],
 "metadata": {
  "kernelspec": {
   "display_name": "Python 3",
   "language": "python",
   "name": "python3"
  },
  "language_info": {
   "codemirror_mode": {
    "name": "ipython",
    "version": 3
   },
   "file_extension": ".py",
   "mimetype": "text/x-python",
   "name": "python",
   "nbconvert_exporter": "python",
   "pygments_lexer": "ipython3",
   "version": "3.6.4"
  }
 },
 "nbformat": 4,
 "nbformat_minor": 2
}
